{
  "nbformat": 4,
  "nbformat_minor": 0,
  "metadata": {
    "colab": {
      "provenance": []
    },
    "kernelspec": {
      "name": "python3",
      "display_name": "Python 3"
    },
    "language_info": {
      "name": "python"
    }
  },
  "cells": [
    {
      "cell_type": "markdown",
      "source": [],
      "metadata": {
        "id": "7Le9vPa9qqhf"
      }
    },
    {
      "cell_type": "markdown",
      "source": [
        "# Tools for Data Science"
      ],
      "metadata": {
        "id": "1cVTBEDHqwpD"
      }
    },
    {
      "cell_type": "markdown",
      "source": [
        "## Introduction\n",
        "This notebook contains exercises related to data science tools and basic python operations."
      ],
      "metadata": {
        "id": "k3tkzkNhriLQ"
      }
    },
    {
      "cell_type": "markdown",
      "source": [
        "## Data Science Languages\n",
        "- Python\n",
        "- R\n",
        "- SQL\n",
        "- Julia\n",
        "- Scala\n"
      ],
      "metadata": {
        "id": "jULtBKZrrkgV"
      }
    },
    {
      "cell_type": "markdown",
      "source": [],
      "metadata": {
        "id": "IrRZUxsGr8wk"
      }
    },
    {
      "cell_type": "markdown",
      "source": [
        "## Data Science Libraries\n",
        "- Pandas\n",
        "- NumPy\n",
        "- Matplotlib\n",
        "- Scikit-learn\n",
        "- TensorFlow"
      ],
      "metadata": {
        "id": "0_VB3BxAsMw8"
      }
    },
    {
      "cell_type": "markdown",
      "source": [
        "## Data Science Tools\n",
        "\n",
        "| Tool           | Description                      |\n",
        "|----------------|----------------------------------|\n",
        "| Jupyter        | Interactive computing            |\n",
        "| RStudio        | IDE for R                        |\n",
        "| Apache Zeppelin| Web-based notebook               |\n"
      ],
      "metadata": {
        "id": "yyztTj-XsbE5"
      }
    },
    {
      "cell_type": "markdown",
      "source": [
        "## Arithmetic Expressions Examples\n",
        "Here are some arithmetic expressions:\n",
        "- 2 + 3 = 5\n",
        "- 4 * 5 = 20\n",
        "- 10 / 2 = 5.0\n",
        "- 7 - 3 = 4"
      ],
      "metadata": {
        "id": "-NatLFLRtS-e"
      }
    },
    {
      "cell_type": "code",
      "source": [
        "# Multiply and add numbers\n",
        "(3 * 4) + 5"
      ],
      "metadata": {
        "colab": {
          "base_uri": "https://localhost:8080/"
        },
        "id": "7Lxq68ViuCc0",
        "outputId": "a37aa9b3-1144-4da0-d508-6113123f0538"
      },
      "execution_count": null,
      "outputs": [
        {
          "output_type": "execute_result",
          "data": {
            "text/plain": [
              "17"
            ]
          },
          "metadata": {},
          "execution_count": 1
        }
      ]
    },
    {
      "cell_type": "code",
      "source": [
        "# Convert minutes to hours\n",
        "minutes = 120\n",
        "hours = minutes / 60\n",
        "hours"
      ],
      "metadata": {
        "colab": {
          "base_uri": "https://localhost:8080/"
        },
        "id": "uqTHwxuHuKBn",
        "outputId": "3ce7813b-c7c6-4a86-99cd-7f66c3130a86"
      },
      "execution_count": null,
      "outputs": [
        {
          "output_type": "execute_result",
          "data": {
            "text/plain": [
              "2.0"
            ]
          },
          "metadata": {},
          "execution_count": 2
        }
      ]
    },
    {
      "cell_type": "markdown",
      "source": [
        "## Objectives\n",
        "- Learn popular data science tools\n",
        "- Practice markdown in Juypter Notebook\n",
        "- Perform basic arithmetic operations using Python"
      ],
      "metadata": {
        "id": "yUv0TBAguakd"
      }
    },
    {
      "cell_type": "markdown",
      "source": [
        "## Author\n",
        "Rishabh Malasi"
      ],
      "metadata": {
        "id": "2YT5NvRYuutB"
      }
    }
  ]
}